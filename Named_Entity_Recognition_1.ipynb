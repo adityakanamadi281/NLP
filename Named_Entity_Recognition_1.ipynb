{
  "nbformat": 4,
  "nbformat_minor": 0,
  "metadata": {
    "colab": {
      "provenance": []
    },
    "kernelspec": {
      "name": "python3",
      "display_name": "Python 3"
    },
    "language_info": {
      "name": "python"
    }
  },
  "cells": [
    {
      "cell_type": "code",
      "execution_count": 1,
      "metadata": {
        "id": "fd4897p7tCsS"
      },
      "outputs": [],
      "source": [
        "import spacy"
      ]
    },
    {
      "cell_type": "code",
      "source": [
        "nlp = spacy.load('en_core_web_sm')"
      ],
      "metadata": {
        "id": "l-GNrpebtFUF"
      },
      "execution_count": 2,
      "outputs": []
    },
    {
      "cell_type": "code",
      "source": [
        "text = u'I will visit Paris on November 2021'\n",
        "\n",
        "doc = nlp(text)"
      ],
      "metadata": {
        "id": "KlawLB2gtKsG"
      },
      "execution_count": 3,
      "outputs": []
    },
    {
      "cell_type": "code",
      "source": [
        "def displayEntities(doc):\n",
        "    if doc.ents:\n",
        "        for entity in doc.ents:\n",
        "            print('Entity: {}, Label: {}, Explanation: {}'.format(entity.text, entity.label_, spacy.explain(entity.label_)))\n",
        "    else:\n",
        "        print('[INFO] No Entity found!')"
      ],
      "metadata": {
        "id": "QR-iFxCBtRbg"
      },
      "execution_count": 4,
      "outputs": []
    },
    {
      "cell_type": "code",
      "source": [
        "displayEntities(doc)"
      ],
      "metadata": {
        "colab": {
          "base_uri": "https://localhost:8080/"
        },
        "id": "Xwa6YbHGtUQc",
        "outputId": "ca94d485-cffe-4fcc-9815-a3396cbf0d35"
      },
      "execution_count": 5,
      "outputs": [
        {
          "output_type": "stream",
          "name": "stdout",
          "text": [
            "Entity: Paris, Label: GPE, Explanation: Countries, cities, states\n",
            "Entity: November 2021, Label: DATE, Explanation: Absolute or relative dates or periods\n"
          ]
        }
      ]
    },
    {
      "cell_type": "code",
      "source": [
        "from spacy.tokens import Span"
      ],
      "metadata": {
        "id": "mNEIBxLMtWpI"
      },
      "execution_count": 6,
      "outputs": []
    },
    {
      "cell_type": "code",
      "source": [
        "newText = u'SpaceX is going to lead NASA soon!'\n",
        "\n",
        "newDoc = nlp(newText)"
      ],
      "metadata": {
        "id": "zj5bfCS6tZ3m"
      },
      "execution_count": 7,
      "outputs": []
    },
    {
      "cell_type": "code",
      "source": [
        "ORG = newDoc.vocab.strings[u'ORG']"
      ],
      "metadata": {
        "id": "NTNCNSZbtcj7"
      },
      "execution_count": 8,
      "outputs": []
    },
    {
      "cell_type": "code",
      "source": [
        "newEntity = Span(newDoc, 0, 1, label=ORG)"
      ],
      "metadata": {
        "id": "yQFA-5fytfql"
      },
      "execution_count": 9,
      "outputs": []
    },
    {
      "cell_type": "code",
      "source": [
        "displayEntities(newEntity)"
      ],
      "metadata": {
        "colab": {
          "base_uri": "https://localhost:8080/"
        },
        "id": "CTHelpXHtkes",
        "outputId": "d5153108-5464-45f1-e9e6-d54b882093ff"
      },
      "execution_count": 13,
      "outputs": [
        {
          "output_type": "stream",
          "name": "stdout",
          "text": [
            "Entity: SpaceX, Label: PERSON, Explanation: People, including fictional\n"
          ]
        }
      ]
    },
    {
      "cell_type": "code",
      "source": [],
      "metadata": {
        "id": "03HEDUdVuFGJ"
      },
      "execution_count": null,
      "outputs": []
    }
  ]
}